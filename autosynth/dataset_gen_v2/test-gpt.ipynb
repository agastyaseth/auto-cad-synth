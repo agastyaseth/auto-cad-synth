{
 "cells": [
  {
   "cell_type": "code",
   "execution_count": 13,
   "metadata": {},
   "outputs": [],
   "source": [
    "from openai import OpenAI\n",
    "client = OpenAI(organization='org-VR0PrQFpMVbh4ELxxSHDbdb7', project='proj_P3nuY0NXfQnZVaD2tmJPdSbi', api_key='sk-proj-P7SKNKhDWsWGmewN2FDaT3BlbkFJKcN4foFiI6oZ3jddpMBY')\n",
    "\n",
    "response = client.chat.completions.create(\n",
    "  model=\"gpt-3.5-turbo-0125\",\n",
    "  messages=[\n",
    "    {\"role\": \"system\", \"content\": \n",
    "     '''Given the following command and its description, generate a natural language query instructing a llm to set this particular command in the tcl file. The PPA constraints can be one of the following: \"low power consumption\", \"high performance\",  and \"minimal area\". Also add an example value for the constraint.  \n",
    "        Example: \n",
    "        Prompt: \n",
    "        Command: set_dont_use \n",
    "        Description: Prevents specific cells from being used in synthesis.  \n",
    "        PPA Constraint: low power consumption  \n",
    "        Output: Given the following TCL file, optimize for low power consumption without using the \"NangateOpenCellLibrary/AOI\" cell in the synthesis.\n",
    "        '''},\n",
    "    {\"role\": \"user\", \"content\": \n",
    "     '''Prompt: \n",
    "        Command: set_max_delay \n",
    "        Description: Sets the maximum delay for a path. \n",
    "        PPA Constraint: minimal area  \n",
    "        Output:\n",
    "    '''},\n",
    "  ]\n",
    ")"
   ]
  },
  {
   "cell_type": "code",
   "execution_count": 14,
   "metadata": {},
   "outputs": [
    {
     "data": {
      "text/plain": [
       "'Given the following TCL file, set the maximum delay for a path while optimizing for minimal area.'"
      ]
     },
     "execution_count": 14,
     "metadata": {},
     "output_type": "execute_result"
    }
   ],
   "source": [
    "response.choices[0].message.content"
   ]
  },
  {
   "cell_type": "code",
   "execution_count": null,
   "metadata": {},
   "outputs": [],
   "source": []
  }
 ],
 "metadata": {
  "kernelspec": {
   "display_name": "myenv",
   "language": "python",
   "name": "python3"
  },
  "language_info": {
   "codemirror_mode": {
    "name": "ipython",
    "version": 3
   },
   "file_extension": ".py",
   "mimetype": "text/x-python",
   "name": "python",
   "nbconvert_exporter": "python",
   "pygments_lexer": "ipython3",
   "version": "3.10.14"
  }
 },
 "nbformat": 4,
 "nbformat_minor": 2
}
